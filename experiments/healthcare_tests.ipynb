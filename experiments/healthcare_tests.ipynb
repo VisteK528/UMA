{
 "cells": [
  {
   "cell_type": "code",
   "id": "initial_id",
   "metadata": {
    "collapsed": true,
    "ExecuteTime": {
     "end_time": "2025-01-08T10:40:13.460306321Z",
     "start_time": "2025-01-08T10:40:12.255111827Z"
    }
   },
   "source": [
    "from ucimlrepo import fetch_ucirepo \n",
    "from implementations.id3 import DecisionTreeClassifier\n",
    "from implementations import id3\n",
    "from implementations.bayes import NaiveBayes\n",
    "import matplotlib.pyplot as plt\n",
    "from collections import Counter\n",
    "import numpy as np\n",
    "from typing import Tuple\n",
    "import pandas as pd\n",
    "import time\n",
    "import importlib"
   ],
   "outputs": [],
   "execution_count": 1
  },
  {
   "metadata": {},
   "cell_type": "code",
   "outputs": [],
   "execution_count": null,
   "source": [
    "data = pd.read_csv(\"healthcare_dataset.csv\")"
   ],
   "id": "ea1ce019d9b6c409"
  },
  {
   "metadata": {},
   "cell_type": "code",
   "outputs": [],
   "execution_count": null,
   "source": [
    "data = np.loadtxt(\"healthcare_dataset.csv\", skiprows=0)"
   ],
   "id": "f9c25ab7a51a1c6b"
  },
  {
   "metadata": {},
   "cell_type": "markdown",
   "source": [
    "# Healthcare dataset\n",
    "\n",
    "Name: This column represents the name of the patient associated with the healthcare record.\n",
    "\n",
    "Age: The age of the patient at the time of admission, expressed in years.\n",
    "\n",
    "Gender: Indicates the gender of the patient, either \"Male\" or \"Female.\"\n",
    "\n",
    "Blood Type: The patient's blood type, which can be one of the common blood types (e.g., \"A+\", \"O-\", etc.).\n",
    "\n",
    "Medical Condition: This column specifies the primary medical condition or diagnosis associated with the patient, such as \"Diabetes,\" \"Hypertension,\" \"Asthma,\" and more.\n",
    "\n",
    "Date of Admission: The date on which the patient was admitted to the healthcare facility.\n",
    "\n",
    "Doctor: The name of the doctor responsible for the patient's care during their admission.\n",
    "\n",
    "Hospital: Identifies the healthcare facility or hospital where the patient was admitted.\n",
    "\n",
    "Insurance Provider: This column indicates the patient's insurance provider, which can be one of several options, including \"Aetna,\" \"Blue Cross,\" \"Cigna,\" \"UnitedHealthcare,\" and \"Medicare.\"\n",
    "\n",
    "Billing Amount: The amount of money billed for the patient's healthcare services during their admission. This is expressed as a floating-point number.\n",
    "\n",
    "Room Number: The room number where the patient was accommodated during their admission.\n",
    "\n",
    "Admission Type: Specifies the type of admission, which can be \"Emergency,\" \"Elective,\" or \"Urgent,\" reflecting the circumstances of the admission.\n",
    "\n",
    "Discharge Date: The date on which the patient was discharged from the healthcare facility, based on the admission date and a random number of days within a realistic range.\n",
    "\n",
    "Medication: Identifies a medication prescribed or administered to the patient during their admission. Examples include \"Aspirin,\" \"Ibuprofen,\" \"Penicillin,\" \"Paracetamol,\" and \"Lipitor.\"\n",
    "\n",
    "Test Results: Describes the results of a medical test conducted during the patient's admission. Possible values include \"Normal,\" \"Abnormal,\" or \"Inconclusive,\" indicating the outcome of the test.\n",
    "\n",
    "## Used / modified features\n",
    "- age\n",
    "- gender\n",
    "- blood type\n",
    "- medical condition\n",
    "- doctor\n",
    "- \n"
   ],
   "id": "6e42b540ed10f699"
  },
  {
   "metadata": {},
   "cell_type": "code",
   "source": [
    "data = pd.read_csv(\"../data/healthcare_dataset.csv\")"
   ],
   "id": "6f2b0e9732b60c69",
   "outputs": [],
   "execution_count": null
  },
  {
   "metadata": {},
   "cell_type": "code",
   "source": [
    "data"
   ],
   "id": "80d1bba5e47c8d1",
   "outputs": [],
   "execution_count": null
  },
  {
   "metadata": {},
   "cell_type": "code",
   "source": [
    "plt.hist(data[\"Billing Amount\"], bins=100)"
   ],
   "id": "1f6985a145f70704",
   "outputs": [],
   "execution_count": null
  },
  {
   "metadata": {},
   "cell_type": "code",
   "source": [
    "amount_spend = data[\"Billing Amount\"]"
   ],
   "id": "37a42c23574caab5",
   "outputs": [],
   "execution_count": null
  },
  {
   "metadata": {},
   "cell_type": "code",
   "source": [
    "Counter(data[\"Blood Type\"])"
   ],
   "id": "e10fab8b6b3d7972",
   "outputs": [],
   "execution_count": null
  },
  {
   "metadata": {},
   "cell_type": "code",
   "source": [
    "values = []\n",
    "for amount in amount_spend[:1000]:\n",
    "    if(amount // 1e4 == -1):\n",
    "        print(amount, amount // 1e4)\n",
    "    \n",
    "    values.append(amount // 1e4)"
   ],
   "id": "928d2bc8fdd0e954",
   "outputs": [],
   "execution_count": null
  },
  {
   "metadata": {},
   "cell_type": "code",
   "source": [
    "Counter(values)"
   ],
   "id": "82dfc795cd216a8f",
   "outputs": [],
   "execution_count": null
  },
  {
   "metadata": {},
   "cell_type": "code",
   "source": [
    "24830.16460954 // 1e4"
   ],
   "id": "5dd8c681e83dbc15",
   "outputs": [],
   "execution_count": null
  },
  {
   "metadata": {},
   "cell_type": "code",
   "source": [
    "age_split = []\n",
    "for age in data[\"Age\"][:1000]:\n",
    "\n",
    "    \n",
    "    age_split.append(age // 5)"
   ],
   "id": "e4c3e5eebe2e1e31",
   "outputs": [],
   "execution_count": null
  },
  {
   "metadata": {},
   "cell_type": "code",
   "source": [
    "c = Counter(age_split)"
   ],
   "id": "284742147c811ac6",
   "outputs": [],
   "execution_count": null
  },
  {
   "metadata": {},
   "cell_type": "code",
   "source": [
    "plt.bar(c.keys(), c.values())"
   ],
   "id": "d0105f2878599512",
   "outputs": [],
   "execution_count": null
  },
  {
   "metadata": {},
   "cell_type": "markdown",
   "source": [
    "Jak zastosować kodowanie z gorącą jedynką (ang. one hot) w drzewie decyzyjnym?\n",
    "\n",
    "Z tego co na razie zrozumiałem, należy po prostu zwiększyć liczbę kolumn i kodowac na zasadzie 1 vs reszta. Przykładowo dla 3 kolorów [czerwony, zielony, niebieski] kodować kolumnami: one_hot_red, one_hot_green, one_hot_blue"
   ],
   "id": "6a39ac6b7591c9ae"
  },
  {
   "metadata": {},
   "cell_type": "code",
   "outputs": [],
   "execution_count": null,
   "source": [],
   "id": "44d2d9650845e6c2"
  }
 ],
 "metadata": {
  "kernelspec": {
   "display_name": "Python 3",
   "language": "python",
   "name": "python3"
  },
  "language_info": {
   "codemirror_mode": {
    "name": "ipython",
    "version": 2
   },
   "file_extension": ".py",
   "mimetype": "text/x-python",
   "name": "python",
   "nbconvert_exporter": "python",
   "pygments_lexer": "ipython2",
   "version": "2.7.6"
  }
 },
 "nbformat": 4,
 "nbformat_minor": 5
}
