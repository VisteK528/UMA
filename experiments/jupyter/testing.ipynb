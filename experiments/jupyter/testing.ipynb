{
 "cells": [
  {
   "cell_type": "code",
   "id": "initial_id",
   "metadata": {
    "collapsed": true,
    "ExecuteTime": {
     "end_time": "2025-01-25T22:23:37.286632Z",
     "start_time": "2025-01-25T22:23:35.937837Z"
    }
   },
   "source": [
    "from enum import unique\n",
    "\n",
    "from ucimlrepo import fetch_ucirepo\n",
    "import os\n",
    "import matplotlib.pyplot as plt\n",
    "import numpy as np\n",
    "from datetime import datetime\n",
    "from collections import Counter\n",
    "import pandas as pd"
   ],
   "outputs": [],
   "execution_count": 1
  },
  {
   "metadata": {
    "ExecuteTime": {
     "end_time": "2025-01-25T22:23:39.461910Z",
     "start_time": "2025-01-25T22:23:38.279253Z"
    }
   },
   "cell_type": "code",
   "source": [
    "X = np.genfromtxt(\"../../data_processed/credit_score/percentiles/X.csv\", dtype=float, delimiter=\",\")\n",
    "l = len(X[0])\n",
    "xx = np.zeros([X.shape[0], l])\n",
    "for i in range(X.shape[0]):\n",
    "    for j in range(l):\n",
    "        xx[i, j] = X[i][j]\n",
    "X = xx\n",
    "y = np.loadtxt(\"../../data_processed/credit_score/percentiles/y.csv\", dtype=float, delimiter=\",\")\n",
    "print(np.unique(y, return_counts=True))"
   ],
   "id": "294de5d6a5e53c07",
   "outputs": [
    {
     "name": "stdout",
     "output_type": "stream",
     "text": [
      "(array([0., 1., 2.]), array([14511, 25479,  8215]))\n"
     ]
    }
   ],
   "execution_count": 2
  }
 ],
 "metadata": {
  "kernelspec": {
   "display_name": "Python 3",
   "language": "python",
   "name": "python3"
  },
  "language_info": {
   "codemirror_mode": {
    "name": "ipython",
    "version": 2
   },
   "file_extension": ".py",
   "mimetype": "text/x-python",
   "name": "python",
   "nbconvert_exporter": "python",
   "pygments_lexer": "ipython2",
   "version": "2.7.6"
  }
 },
 "nbformat": 4,
 "nbformat_minor": 5
}
