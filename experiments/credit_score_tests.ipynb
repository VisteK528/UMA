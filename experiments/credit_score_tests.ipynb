{
 "cells": [
  {
   "cell_type": "code",
   "execution_count": null,
   "id": "initial_id",
   "metadata": {
    "collapsed": true
   },
   "outputs": [],
   "source": [
    "from ucimlrepo import fetch_ucirepo\n",
    "from implementations import bayes\n",
    "from implementations import id3\n",
    "from implementations import random_forest\n",
    "import matplotlib.pyplot as plt\n",
    "from collections import Counter\n",
    "import numpy as np\n",
    "from typing import Tuple\n",
    "import pandas as pd\n",
    "import time\n",
    "import importlib\n",
    "from sklearn.model_selection import train_test_split\n",
    "from sklearn.preprocessing import OneHotEncoder"
   ]
  },
  {
   "metadata": {},
   "cell_type": "code",
   "outputs": [],
   "execution_count": null,
   "source": [
    "X = np.genfromtxt(\"../data_processed/credit_score/hot_one/X.csv\",\n",
    "                   delimiter=\",\",\n",
    "                   dtype=None,\n",
    "                   encoding=\"utf-8\",\n",
    "                   names=None)\n",
    "l = len(X[0])\n",
    "xx = np.zeros([X.shape[0], l])\n",
    "for i in range(X.shape[0]):\n",
    "    for j in range(l):\n",
    "        xx[i,j] = X[i][j]\n",
    "X = xx\n",
    "y = np.loadtxt(\"../data_processed/credit_score/hot_one/y.csv\", dtype=float, delimiter=\",\")\n",
    "\n",
    "x_train, x_test, y_train, y_test = train_test_split(X, y, test_size=0.1, random_state=123)\n",
    "accuracies = []\n",
    "time1 = time.time()\n",
    "\n",
    "for _ in range(1):\n",
    "    y_pred = []\n",
    "    rfc = random_forest.RandomForestClassifier(classifiers_number=50)\n",
    "    rfc.fit(x_train, y_train, tree_percentage=1.0)\n",
    "\n",
    "    samples = len(y_test)\n",
    "    correctly_predicted = 0\n",
    "    for sample, gt in zip(x_test, y_test):\n",
    "        prediction = rfc.predict(sample)\n",
    "        y_pred.append(np.argmax(prediction))\n",
    "        print(prediction, gt)\n",
    "        if np.argmax(prediction) == gt:\n",
    "            correctly_predicted += 1\n",
    "\n",
    "    y_pred = np.array(y_pred)\n",
    "\n",
    "    print(f\"Accuracy: {(correctly_predicted / samples) * 100:.2f}%\")\n",
    "    print(f\"Elapsed time: {time.time()-time1:.2f} s\")\n",
    "    accuracies.append((correctly_predicted / samples) * 100)\n",
    "print(f\"Mean accuracy: {np.mean(accuracies):.2f}%\")"
   ],
   "id": "e4dad0b039771f51"
  },
  {
   "metadata": {},
   "cell_type": "code",
   "outputs": [],
   "execution_count": null,
   "source": [
    "from sklearn.metrics import confusion_matrix, ConfusionMatrixDisplay\n",
    "\n",
    "cm = confusion_matrix(y_test, y_pred, labels=[0, 1, 2])\n",
    "disp = ConfusionMatrixDisplay(confusion_matrix=cm,\n",
    "                              display_labels=[\"abnormal\", \"normal\", \"inconclusive\"])\n",
    "disp.plot()\n",
    "plt.show()"
   ],
   "id": "dd2fe42d70c20c36"
  }
 ],
 "metadata": {
  "kernelspec": {
   "display_name": "Python 3",
   "language": "python",
   "name": "python3"
  },
  "language_info": {
   "codemirror_mode": {
    "name": "ipython",
    "version": 2
   },
   "file_extension": ".py",
   "mimetype": "text/x-python",
   "name": "python",
   "nbconvert_exporter": "python",
   "pygments_lexer": "ipython2",
   "version": "2.7.6"
  }
 },
 "nbformat": 4,
 "nbformat_minor": 5
}
